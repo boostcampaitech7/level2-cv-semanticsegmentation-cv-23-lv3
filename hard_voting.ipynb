{
 "cells": [
  {
   "cell_type": "code",
   "execution_count": 1,
   "metadata": {
    "id": "l_BM8upg-MYW"
   },
   "outputs": [],
   "source": [
    "import numpy as np # numpy import\n",
    "import pandas as pd # pandas import\n",
    "import os # os import\n",
    "from tqdm import tqdm # 진행상황 확인을 위한 tqdm import"
   ]
  },
  {
   "cell_type": "code",
   "execution_count": 2,
   "metadata": {
    "id": "l08RmKt3-N7x"
   },
   "outputs": [],
   "source": [
    "def csv_ensemble(csv_paths, save_dir, threshold):  # threshold 파라미터 추가\n",
    "   def decode_rle_to_mask(rle, height, width):\n",
    "       s = rle.split()\n",
    "       starts, lengths = [np.asarray(x, dtype=int) for x in (s[0:][::2], s[1:][::2])]\n",
    "       starts -= 1\n",
    "       ends = starts + lengths\n",
    "       img = np.zeros(height * width, dtype=np.uint8)\n",
    "\n",
    "       for lo, hi in zip(starts, ends):\n",
    "           img[lo:hi] = 1\n",
    "\n",
    "       return img.reshape(height, width)\n",
    "\n",
    "   def encode_mask_to_rle(mask):\n",
    "       pixels = mask.flatten()\n",
    "       pixels = np.concatenate([[0], pixels, [0]])\n",
    "       runs = np.where(pixels[1:] != pixels[:-1])[0] + 1\n",
    "       runs[1::2] -= runs[::2]\n",
    "       return ' '.join(str(x) for x in runs)\n",
    "\n",
    "   # csv의 기본 column(column이지만 사실 row입니다.. default 8352)\n",
    "   csv_column = 8352\n",
    "\n",
    "   csv_data = []\n",
    "   for path in csv_paths:\n",
    "       data = pd.read_csv(path)\n",
    "       csv_data.append(data)\n",
    "\n",
    "   file_num = len(csv_data)\n",
    "   filename_and_class = []\n",
    "   rles = []\n",
    "\n",
    "   print(f\"앙상블할 모델 수: {file_num}, threshold: {threshold}\")  # 정보 출력 추가\n",
    "\n",
    "   for index in tqdm(range(csv_column)):\n",
    "       model_rles = []\n",
    "       for data in csv_data:\n",
    "           # rle 적용 시 이미지 사이즈는 변경하시면 안됩니다. 기본 test 이미지의 사이즈 그대로 유지하세요!\n",
    "           if(type(data.iloc[index]['rle']) == float):\n",
    "               model_rles.append(np.zeros((2048,2048)))\n",
    "               continue\n",
    "           model_rles.append(decode_rle_to_mask(data.iloc[index]['rle'],2048,2048))\n",
    "\n",
    "       image = np.zeros((2048,2048))\n",
    "\n",
    "       for model in model_rles:\n",
    "           image += model\n",
    "\n",
    "       # threshold 값으로 결정 (threshold의 값은 투표 수입니다!)\n",
    "       # threshold로 설정된 값보다 크면 1, 작으면 0으로 변경합니다.\n",
    "       image[image <= threshold] = 0\n",
    "       image[image > threshold] = 1\n",
    "\n",
    "       result_image = image\n",
    "\n",
    "       rles.append(encode_mask_to_rle(result_image))\n",
    "       filename_and_class.append(f\"{csv_data[0].iloc[index]['class']}_{csv_data[0].iloc[index]['image_name']}\")\n",
    "\n",
    "   classes, filename = zip(*[x.split(\"_\") for x in filename_and_class])\n",
    "   image_name = [os.path.basename(f) for f in filename]\n",
    "\n",
    "   # 기본 Dataframe의 구조는 image_name, class, rle로 되어있습니다.\n",
    "   df = pd.DataFrame({\n",
    "       \"image_name\": image_name,\n",
    "       \"class\": classes,\n",
    "       \"rle\": rles,\n",
    "   })\n",
    "\n",
    "   # 최종 ensemble output 저장\n",
    "   df.to_csv(save_dir, index=False)"
   ]
  },
  {
   "cell_type": "code",
   "execution_count": 3,
   "metadata": {
    "id": "n4Gw7So2-N5g"
   },
   "outputs": [
    {
     "name": "stdout",
     "output_type": "stream",
     "text": [
      "앙상블할 모델 수: 13, threshold: 5\n"
     ]
    },
    {
     "name": "stderr",
     "output_type": "stream",
     "text": [
      "100%|██████████| 8352/8352 [25:42<00:00,  5.41it/s]\n"
     ]
    }
   ],
   "source": [
    "csv_paths = ['/data/ephemeral/home/ensemble_input/UNet++_epooch100_res1536_combined_loss0.5_re.csv',\n",
    "             '/data/ephemeral/home/ensemble_input/Unet++_efficientb4_BCE+DICE_1024.csv',\n",
    "             '/data/ephemeral/home/ensemble_input/UNet++_Cosine_Tmax80_combined_bce0.5_lr_1e-3.csv',\n",
    "             '/data/ephemeral/home/ensemble_input/deeplabv3plus_5.csv',\n",
    "             '/data/ephemeral/home/SSJ/soft_ensemble/ensemble_softvoting_0.5_all2.csv',\n",
    "             '/data/ephemeral/home/SSJ/soft_ensemble/ensemble_softvoting_0.5.csv',\n",
    "             '/data/ephemeral/home/ensemble_input/ensemble_threshold_2.csv',\n",
    "             '/data/ephemeral/home/ensemble_input/9719.csv',\n",
    "             '/data/ephemeral/home/ensemble_input/9729.csv',\n",
    "             '/data/ephemeral/home/ensemble_input/9732.csv',\n",
    "             '/data/ephemeral/home/ensemble_input/9737.csv',\n",
    "             '/data/ephemeral/home/ensemble_input/9740.csv',\n",
    "             '/data/ephemeral/home/ensemble_input/9740.csv']\n",
    "\n",
    "# threshold in [2]에서 []의 숫자를 변경하면 투표 임계값을 설정하실 수 있습니다.\n",
    "for threshold in [5]:\n",
    "    save_path = f\"ensemble_threshold_{threshold}_all_final.csv\"\n",
    "    csv_ensemble(csv_paths, save_path, threshold)"
   ]
  },
  {
   "cell_type": "code",
   "execution_count": null,
   "metadata": {
    "id": "PmYvzjK_-N3X"
   },
   "outputs": [],
   "source": []
  },
  {
   "cell_type": "code",
   "execution_count": null,
   "metadata": {
    "id": "ZcnRj_c_-N1C"
   },
   "outputs": [],
   "source": []
  },
  {
   "cell_type": "code",
   "execution_count": null,
   "metadata": {
    "id": "Z1Air0UR-Nyr"
   },
   "outputs": [],
   "source": []
  }
 ],
 "metadata": {
  "colab": {
   "provenance": []
  },
  "kernelspec": {
   "display_name": "base",
   "language": "python",
   "name": "python3"
  },
  "language_info": {
   "codemirror_mode": {
    "name": "ipython",
    "version": 3
   },
   "file_extension": ".py",
   "mimetype": "text/x-python",
   "name": "python",
   "nbconvert_exporter": "python",
   "pygments_lexer": "ipython3",
   "version": "3.10.13"
  }
 },
 "nbformat": 4,
 "nbformat_minor": 0
}
